{
 "cells": [
  {
   "cell_type": "code",
   "execution_count": null,
   "metadata": {
    "collapsed": true
   },
   "outputs": [],
   "source": [
    "### If you need a simple concatenator, use the following code.\n",
    "\n",
    "parent = str('/home/wvstudent/notebooks/Spectroscopy/Damage Classifier/Images 16/spectra')\n",
    "\n",
    "import pandas as pd\n",
    "import os\n",
    "import numpy as np\n",
    "\n",
    "files = os.listdir(parent)\n",
    "\n",
    "A = len(files)\n",
    "N = 1\n",
    "\n",
    "merged = []\n",
    "\n",
    "for f in files:\n",
    "    print('Merging file ' + str(N) + ' of ' + str(A))\n",
    "    read = pd.read_csv(os.path.join(parent, f), header=None)\n",
    "    read = np.transpose(read)\n",
    "    merged.append(read)\n",
    "    N += 1\n",
    "    \n",
    "result = pd.concat(merged)\n",
    "result.to_csv('NORMcombined.csv', ',')"
   ]
  },
  {
   "cell_type": "code",
   "execution_count": null,
   "metadata": {
    "collapsed": true
   },
   "outputs": [],
   "source": [
    "cd '/home/wvstudent/notebooks/Spectroscopy/VIS 07_01_2017/images/spectra'\n",
    "parent = str('/home/wvstudent/notebooks/Spectroscopy/VIS 07_01_2017/images/spectra')"
   ]
  },
  {
   "cell_type": "code",
   "execution_count": null,
   "metadata": {
    "collapsed": true
   },
   "outputs": [],
   "source": [
    "import pandas as pd\n",
    "import os\n",
    "import numpy as np"
   ]
  },
  {
   "cell_type": "code",
   "execution_count": null,
   "metadata": {
    "collapsed": true
   },
   "outputs": [],
   "source": [
    "internals = sorted(os.listdir(parent))"
   ]
  },
  {
   "cell_type": "code",
   "execution_count": null,
   "metadata": {
    "collapsed": true
   },
   "outputs": [],
   "source": [
    "x = 0\n",
    "\n",
    "while x < len(internals):\n",
    "    for folder in internals:\n",
    "        \n",
    "        merged = []\n",
    "        root = parent + '/' + str(internals[x])\n",
    "        \n",
    "        # _,_,files = next(os.walk(root))\n",
    "        files = os.listdir(root)        \n",
    "        \n",
    "        for f in files:\n",
    "            filename, ext = os.path.splitext(f)\n",
    "            if ext == '.csv':\n",
    "                read = pd.read_csv(os.path.join(root, f), header=None)\n",
    "                read = np.transpose(read)\n",
    "                merged.append(read)\n",
    "                \n",
    "            result = pd.concat(merged)\n",
    "            result.to_csv(internals[x] + '.csv', ',')\n",
    "                \n",
    "    x += 1"
   ]
  },
  {
   "cell_type": "code",
   "execution_count": null,
   "metadata": {
    "collapsed": true
   },
   "outputs": [],
   "source": [
    "comb_files = [f for f in os.listdir(parent) if os.path.isfile(f)]"
   ]
  },
  {
   "cell_type": "code",
   "execution_count": null,
   "metadata": {
    "collapsed": true
   },
   "outputs": [],
   "source": [
    "merged = []\n",
    "\n",
    "for csv in comb_files:\n",
    "    filename, ext = os.path.splitext(f)\n",
    "    if ext == '.csv':\n",
    "        read = pd.read_csv(os.path.join(root, f), header=None)\n",
    "        #read = np.transpose(read)\n",
    "        merged.append(read)\n",
    "                \n",
    "    result = pd.concat(merged)\n",
    "    result.to_csv('combined.csv', ',')"
   ]
  },
  {
   "cell_type": "code",
   "execution_count": null,
   "metadata": {
    "collapsed": true
   },
   "outputs": [],
   "source": [
    "os.path.exists('/home/wvstudent/notebooks/Spectroscopy/Test/combined.csv') "
   ]
  }
 ],
 "metadata": {
  "kernelspec": {
   "display_name": "Python 3",
   "language": "python",
   "name": "python3"
  },
  "language_info": {
   "codemirror_mode": {
    "name": "ipython",
    "version": 3
   },
   "file_extension": ".py",
   "mimetype": "text/x-python",
   "name": "python",
   "nbconvert_exporter": "python",
   "pygments_lexer": "ipython3",
   "version": "3.6.1"
  }
 },
 "nbformat": 4,
 "nbformat_minor": 2
}
