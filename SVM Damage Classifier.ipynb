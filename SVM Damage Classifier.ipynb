{
 "cells": [
  {
   "cell_type": "code",
   "execution_count": 2,
   "metadata": {
    "collapsed": true
   },
   "outputs": [],
   "source": [
    "# Import required packages\n",
    "import numpy as np\n",
    "import pandas as pd\n",
    "import matplotlib.pyplot as plt"
   ]
  },
  {
   "cell_type": "code",
   "execution_count": 3,
   "metadata": {
    "collapsed": true
   },
   "outputs": [],
   "source": [
    "# Display plots within the notebook\n",
    "%matplotlib inline"
   ]
  },
  {
   "cell_type": "code",
   "execution_count": 4,
   "metadata": {
    "collapsed": true
   },
   "outputs": [],
   "source": [
    "data_tr = pd.read_csv(\"IR_D1_apples.csv\", dtype=str, index_col=0)"
   ]
  },
  {
   "cell_type": "code",
   "execution_count": 5,
   "metadata": {},
   "outputs": [
    {
     "data": {
      "text/plain": [
       "(150, 2201)"
      ]
     },
     "execution_count": 5,
     "metadata": {},
     "output_type": "execute_result"
    }
   ],
   "source": [
    "data_tr.shape"
   ]
  },
  {
   "cell_type": "code",
   "execution_count": 6,
   "metadata": {},
   "outputs": [
    {
     "data": {
      "text/html": [
       "<div>\n",
       "<style>\n",
       "    .dataframe thead tr:only-child th {\n",
       "        text-align: right;\n",
       "    }\n",
       "\n",
       "    .dataframe thead th {\n",
       "        text-align: left;\n",
       "    }\n",
       "\n",
       "    .dataframe tbody tr th {\n",
       "        vertical-align: top;\n",
       "    }\n",
       "</style>\n",
       "<table border=\"1\" class=\"dataframe\">\n",
       "  <thead>\n",
       "    <tr style=\"text-align: right;\">\n",
       "      <th></th>\n",
       "      <th>Class</th>\n",
       "      <th>0</th>\n",
       "      <th>1</th>\n",
       "      <th>2</th>\n",
       "      <th>3</th>\n",
       "      <th>4</th>\n",
       "      <th>5</th>\n",
       "      <th>6</th>\n",
       "      <th>7</th>\n",
       "      <th>8</th>\n",
       "      <th>...</th>\n",
       "      <th>2190</th>\n",
       "      <th>2191</th>\n",
       "      <th>2192</th>\n",
       "      <th>2193</th>\n",
       "      <th>2194</th>\n",
       "      <th>2195</th>\n",
       "      <th>2196</th>\n",
       "      <th>2197</th>\n",
       "      <th>2198</th>\n",
       "      <th>2199</th>\n",
       "    </tr>\n",
       "    <tr>\n",
       "      <th>Sample</th>\n",
       "      <th></th>\n",
       "      <th></th>\n",
       "      <th></th>\n",
       "      <th></th>\n",
       "      <th></th>\n",
       "      <th></th>\n",
       "      <th></th>\n",
       "      <th></th>\n",
       "      <th></th>\n",
       "      <th></th>\n",
       "      <th></th>\n",
       "      <th></th>\n",
       "      <th></th>\n",
       "      <th></th>\n",
       "      <th></th>\n",
       "      <th></th>\n",
       "      <th></th>\n",
       "      <th></th>\n",
       "      <th></th>\n",
       "      <th></th>\n",
       "      <th></th>\n",
       "    </tr>\n",
       "  </thead>\n",
       "  <tbody>\n",
       "    <tr>\n",
       "      <th>1</th>\n",
       "      <td>0</td>\n",
       "      <td>45.04</td>\n",
       "      <td>44.98</td>\n",
       "      <td>44.94</td>\n",
       "      <td>44.85</td>\n",
       "      <td>44.71</td>\n",
       "      <td>44.77666667</td>\n",
       "      <td>44.80333333</td>\n",
       "      <td>44.89</td>\n",
       "      <td>45.01</td>\n",
       "      <td>...</td>\n",
       "      <td>46.83333333</td>\n",
       "      <td>46.86</td>\n",
       "      <td>46.72666667</td>\n",
       "      <td>46.74333333</td>\n",
       "      <td>46.66</td>\n",
       "      <td>46.55</td>\n",
       "      <td>46.48333333</td>\n",
       "      <td>46.44333333</td>\n",
       "      <td>46.62666667</td>\n",
       "      <td>46.70333333</td>\n",
       "    </tr>\n",
       "    <tr>\n",
       "      <th>2</th>\n",
       "      <td>0</td>\n",
       "      <td>44.46</td>\n",
       "      <td>44.38</td>\n",
       "      <td>44.26</td>\n",
       "      <td>44.37333333</td>\n",
       "      <td>44.45333333</td>\n",
       "      <td>44.59333333</td>\n",
       "      <td>44.66333333</td>\n",
       "      <td>44.73666667</td>\n",
       "      <td>44.34666667</td>\n",
       "      <td>...</td>\n",
       "      <td>47.06</td>\n",
       "      <td>47.04666667</td>\n",
       "      <td>46.71</td>\n",
       "      <td>46.65</td>\n",
       "      <td>46.6</td>\n",
       "      <td>46.66666667</td>\n",
       "      <td>46.88666667</td>\n",
       "      <td>46.97333333</td>\n",
       "      <td>46.87666667</td>\n",
       "      <td>46.68</td>\n",
       "    </tr>\n",
       "    <tr>\n",
       "      <th>3</th>\n",
       "      <td>0</td>\n",
       "      <td>44.46</td>\n",
       "      <td>44.27333333</td>\n",
       "      <td>44.24333333</td>\n",
       "      <td>44.29</td>\n",
       "      <td>44.49666667</td>\n",
       "      <td>44.68333333</td>\n",
       "      <td>44.44666667</td>\n",
       "      <td>44.41666667</td>\n",
       "      <td>44.44</td>\n",
       "      <td>...</td>\n",
       "      <td>46.81666667</td>\n",
       "      <td>46.97666667</td>\n",
       "      <td>46.71</td>\n",
       "      <td>46.75333333</td>\n",
       "      <td>46.60666667</td>\n",
       "      <td>46.47333333</td>\n",
       "      <td>46.43333333</td>\n",
       "      <td>46.48666667</td>\n",
       "      <td>46.6</td>\n",
       "      <td>46.62</td>\n",
       "    </tr>\n",
       "    <tr>\n",
       "      <th>4</th>\n",
       "      <td>0</td>\n",
       "      <td>44.13666667</td>\n",
       "      <td>44.21333333</td>\n",
       "      <td>44.22666667</td>\n",
       "      <td>44.17666667</td>\n",
       "      <td>44.08333333</td>\n",
       "      <td>44.07</td>\n",
       "      <td>44.2</td>\n",
       "      <td>44.12666667</td>\n",
       "      <td>44.05666667</td>\n",
       "      <td>...</td>\n",
       "      <td>46.30333333</td>\n",
       "      <td>46.29333333</td>\n",
       "      <td>46.28666667</td>\n",
       "      <td>46.11333333</td>\n",
       "      <td>46.11</td>\n",
       "      <td>46.14</td>\n",
       "      <td>46.19666667</td>\n",
       "      <td>46.28</td>\n",
       "      <td>46.32</td>\n",
       "      <td>46.46333333</td>\n",
       "    </tr>\n",
       "    <tr>\n",
       "      <th>5</th>\n",
       "      <td>0</td>\n",
       "      <td>44.70333333</td>\n",
       "      <td>44.89666667</td>\n",
       "      <td>44.86333333</td>\n",
       "      <td>45.05</td>\n",
       "      <td>45.01333333</td>\n",
       "      <td>44.91666667</td>\n",
       "      <td>44.99</td>\n",
       "      <td>45.09666667</td>\n",
       "      <td>44.82333333</td>\n",
       "      <td>...</td>\n",
       "      <td>46.44666667</td>\n",
       "      <td>46.51</td>\n",
       "      <td>46.50333333</td>\n",
       "      <td>46.67333333</td>\n",
       "      <td>46.71333333</td>\n",
       "      <td>46.65</td>\n",
       "      <td>46.35333333</td>\n",
       "      <td>46.19</td>\n",
       "      <td>46.27666667</td>\n",
       "      <td>46.42666667</td>\n",
       "    </tr>\n",
       "  </tbody>\n",
       "</table>\n",
       "<p>5 rows × 2201 columns</p>\n",
       "</div>"
      ],
      "text/plain": [
       "       Class            0            1            2            3            4  \\\n",
       "Sample                                                                          \n",
       "1          0        45.04        44.98        44.94        44.85        44.71   \n",
       "2          0        44.46        44.38        44.26  44.37333333  44.45333333   \n",
       "3          0        44.46  44.27333333  44.24333333        44.29  44.49666667   \n",
       "4          0  44.13666667  44.21333333  44.22666667  44.17666667  44.08333333   \n",
       "5          0  44.70333333  44.89666667  44.86333333        45.05  45.01333333   \n",
       "\n",
       "                  5            6            7            8     ...       \\\n",
       "Sample                                                         ...        \n",
       "1       44.77666667  44.80333333        44.89        45.01     ...        \n",
       "2       44.59333333  44.66333333  44.73666667  44.34666667     ...        \n",
       "3       44.68333333  44.44666667  44.41666667        44.44     ...        \n",
       "4             44.07         44.2  44.12666667  44.05666667     ...        \n",
       "5       44.91666667        44.99  45.09666667  44.82333333     ...        \n",
       "\n",
       "               2190         2191         2192         2193         2194  \\\n",
       "Sample                                                                    \n",
       "1       46.83333333        46.86  46.72666667  46.74333333        46.66   \n",
       "2             47.06  47.04666667        46.71        46.65         46.6   \n",
       "3       46.81666667  46.97666667        46.71  46.75333333  46.60666667   \n",
       "4       46.30333333  46.29333333  46.28666667  46.11333333        46.11   \n",
       "5       46.44666667        46.51  46.50333333  46.67333333  46.71333333   \n",
       "\n",
       "               2195         2196         2197         2198         2199  \n",
       "Sample                                                                   \n",
       "1             46.55  46.48333333  46.44333333  46.62666667  46.70333333  \n",
       "2       46.66666667  46.88666667  46.97333333  46.87666667        46.68  \n",
       "3       46.47333333  46.43333333  46.48666667         46.6        46.62  \n",
       "4             46.14  46.19666667        46.28        46.32  46.46333333  \n",
       "5             46.65  46.35333333        46.19  46.27666667  46.42666667  \n",
       "\n",
       "[5 rows x 2201 columns]"
      ]
     },
     "execution_count": 6,
     "metadata": {},
     "output_type": "execute_result"
    }
   ],
   "source": [
    "data_tr.head()"
   ]
  },
  {
   "cell_type": "code",
   "execution_count": 7,
   "metadata": {
    "collapsed": true
   },
   "outputs": [],
   "source": [
    "x = data_tr.values[:, 1:].astype(float)\n",
    "y = data_tr[\"Class\"].values.astype(int)\n",
    "\n",
    "from sklearn.model_selection import train_test_split\n",
    "\n",
    "X_tr, X_ts, y_tr, y_ts = train_test_split(\n",
    "    x, y, test_size = .1, random_state = 123)"
   ]
  },
  {
   "cell_type": "code",
   "execution_count": 8,
   "metadata": {},
   "outputs": [
    {
     "name": "stdout",
     "output_type": "stream",
     "text": [
      "[ 0.96650868  0.02310082]\n"
     ]
    }
   ],
   "source": [
    "from sklearn.decomposition import PCA\n",
    "pca = PCA(n_components=2)\n",
    "z_tr = pca.fit_transform(X_tr)\n",
    "print(pca.explained_variance_ratio_)"
   ]
  },
  {
   "cell_type": "code",
   "execution_count": 10,
   "metadata": {},
   "outputs": [
    {
     "data": {
      "image/png": "[encoded data removed]",
      "text/plain": [
       "<matplotlib.figure.Figure at 0x7f16d9448630>"
      ]
     },
     "metadata": {},
     "output_type": "display_data"
    }
   ],
   "source": [
    "plt.figure()\n",
    "plt.scatter(z_tr[y_tr == 0, 0], z_tr[y_tr == 0, 1], color=\"r\")\n",
    "plt.scatter(z_tr[y_tr == 1, 0], z_tr[y_tr == 1, 1], color=\"b\")\n",
    "plt.scatter(z_tr[y_tr == 2, 0], z_tr[y_tr == 2, 1], color=\"g\")\n",
    "\n",
    "plt.title(\"PCA of Train data\")\n",
    "plt.show()"
   ]
  },
  {
   "cell_type": "code",
   "execution_count": 9,
   "metadata": {
    "collapsed": true
   },
   "outputs": [],
   "source": [
    "z_ts = pca.transform(X_ts)"
   ]
  },
  {
   "cell_type": "code",
   "execution_count": 10,
   "metadata": {},
   "outputs": [
    {
     "data": {
      "image/png": "[encoded data removed]",
      "text/plain": [
       "<matplotlib.figure.Figure at 0x7f9e499e5da0>"
      ]
     },
     "metadata": {},
     "output_type": "display_data"
    }
   ],
   "source": [
    "plt.figure()\n",
    "plt.scatter(z_tr[y_tr == 1, 0], z_tr[y_tr == 1, 1], color=\"r\")\n",
    "plt.scatter(z_tr[y_tr == 2, 0], z_tr[y_tr == 2, 1], color=\"b\")\n",
    "plt.scatter(z_tr[y_tr == 10, 0], z_tr[y_tr == 10, 1], color=\"g\")\n",
    "plt.scatter(z_tr[y_tr == 17, 0], z_tr[y_tr == 17, 1], color=\"lime\")\n",
    "plt.scatter(z_tr[y_tr == 24, 0], z_tr[y_tr == 24, 1], color=\"cyan\")\n",
    "plt.scatter(z_tr[y_tr == 32, 0], z_tr[y_tr == 32, 1], color=\"magenta\")\n",
    "plt.scatter(z_tr[y_tr == 38, 0], z_tr[y_tr == 38, 1], color=\"purple\")\n",
    "plt.scatter(z_tr[y_tr == 45, 0], z_tr[y_tr == 45, 1], color=\"olive\")\n",
    "plt.scatter(z_tr[y_tr == 52, 0], z_tr[y_tr == 52, 1], color=\"teal\")\n",
    "plt.title(\"PCA transformation applied to Test data\")\n",
    "plt.show()"
   ]
  },
  {
   "cell_type": "code",
   "execution_count": 11,
   "metadata": {
    "collapsed": true
   },
   "outputs": [],
   "source": [
    "from sklearn import svm"
   ]
  },
  {
   "cell_type": "code",
   "execution_count": 14,
   "metadata": {},
   "outputs": [
    {
     "data": {
      "text/plain": [
       "SVC(C=1, cache_size=200, class_weight=None, coef0=0.0,\n",
       "  decision_function_shape='ovo', degree=3, gamma='auto', kernel='poly',\n",
       "  max_iter=-1, probability=False, random_state=None, shrinking=True,\n",
       "  tol=0.001, verbose=False)"
      ]
     },
     "execution_count": 14,
     "metadata": {},
     "output_type": "execute_result"
    }
   ],
   "source": [
    "clf = svm.SVC(C=1,kernel=\"poly\", decision_function_shape='ovo')\n",
    "clf.fit(X_tr, y_tr)"
   ]
  },
  {
   "cell_type": "code",
   "execution_count": 15,
   "metadata": {
    "collapsed": true
   },
   "outputs": [],
   "source": [
    "y_pred = clf.predict(X_ts)"
   ]
  },
  {
   "cell_type": "code",
   "execution_count": 17,
   "metadata": {},
   "outputs": [
    {
     "data": {
      "text/plain": [
       "array([[1, 2, 1],\n",
       "       [1, 1, 3],\n",
       "       [1, 5, 0]])"
      ]
     },
     "execution_count": 17,
     "metadata": {},
     "output_type": "execute_result"
    }
   ],
   "source": [
    "from sklearn.metrics import confusion_matrix\n",
    "conf = confusion_matrix(y_ts, y_pred)\n",
    "conf"
   ]
  },
  {
   "cell_type": "code",
   "execution_count": 18,
   "metadata": {},
   "outputs": [
    {
     "data": {
      "text/plain": [
       "0.13333333333333333"
      ]
     },
     "execution_count": 18,
     "metadata": {},
     "output_type": "execute_result"
    }
   ],
   "source": [
    "from sklearn.metrics import accuracy_score\n",
    "accuracy_score(y_ts, y_pred)"
   ]
  },
  {
   "cell_type": "code",
   "execution_count": 16,
   "metadata": {},
   "outputs": [
    {
     "name": "stdout",
     "output_type": "stream",
     "text": [
      "Fold 1 / 5\n",
      "TRAIN size: 2317\n",
      "-- class 1: 403 class -1: 0\n",
      "TEST size: 584\n",
      "-- class 1: 101 class -1: 0\n",
      "\n",
      "Fold 2 / 5\n",
      "TRAIN size: 2319\n",
      "-- class 1: 403 class -1: 0\n",
      "TEST size: 582\n",
      "-- class 1: 101 class -1: 0\n",
      "\n",
      "Fold 3 / 5\n",
      "TRAIN size: 2320\n",
      "-- class 1: 403 class -1: 0\n",
      "TEST size: 581\n",
      "-- class 1: 101 class -1: 0\n",
      "\n",
      "Fold 4 / 5\n",
      "TRAIN size: 2322\n",
      "-- class 1: 403 class -1: 0\n",
      "TEST size: 579\n",
      "-- class 1: 101 class -1: 0\n",
      "\n",
      "Fold 5 / 5\n",
      "TRAIN size: 2326\n",
      "-- class 1: 404 class -1: 0\n",
      "TEST size: 575\n",
      "-- class 1: 100 class -1: 0\n",
      "\n"
     ]
    }
   ],
   "source": [
    "from sklearn.model_selection import StratifiedKFold\n",
    "skf = StratifiedKFold(n_splits=5, shuffle=True, random_state=42)\n",
    "\n",
    "N = skf.get_n_splits(X_tr, y_tr)\n",
    "\n",
    "for i, (idx_tr, idx_ts) in enumerate(skf.split(X_tr, y_tr)):\n",
    "    print(\"Fold %d / %d\" % (i+1, N))\n",
    "    X_train, Y_train = X_tr[idx_tr], y_tr[idx_tr]\n",
    "    X_test, Y_test = X_tr[idx_ts], y_tr[idx_ts]\n",
    "    print(\"TRAIN size:\", X_train.shape[0])\n",
    "    print(\"-- class 1:\", np.sum(Y_train==1), \"class -1:\", np.sum(Y_train==-1))\n",
    "    print(\"TEST size:\", X_test.shape[0])\n",
    "    print(\"-- class 1:\", np.sum(Y_test==1), \"class -1:\", np.sum(Y_test==-1))\n",
    "    print()"
   ]
  },
  {
   "cell_type": "code",
   "execution_count": null,
   "metadata": {
    "collapsed": true
   },
   "outputs": [],
   "source": []
  }
 ],
 "metadata": {
  "kernelspec": {
   "display_name": "Python 3",
   "language": "python",
   "name": "python3"
  },
  "language_info": {
   "codemirror_mode": {
    "name": "ipython",
    "version": 3
   },
   "file_extension": ".py",
   "mimetype": "text/x-python",
   "name": "python",
   "nbconvert_exporter": "python",
   "pygments_lexer": "ipython3",
   "version": "3.6.1"
  }
 },
 "nbformat": 4,
 "nbformat_minor": 2
}
